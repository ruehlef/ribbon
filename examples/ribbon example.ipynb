{
 "cells": [
  {
   "cell_type": "markdown",
   "id": "309206bd",
   "metadata": {},
   "source": [
    "# Demonstration of the ribbon package"
   ]
  },
  {
   "cell_type": "markdown",
   "id": "3511fc1c",
   "metadata": {},
   "source": [
    "When you run this for the first time, you need to install the package, which you can do by uncommenting (i.e., by removing the leading #) the line below"
   ]
  },
  {
   "cell_type": "code",
   "execution_count": 8,
   "id": "d776b7a0",
   "metadata": {
    "collapsed": true
   },
   "outputs": [
    {
     "name": "stdout",
     "output_type": "stream",
     "text": [
      "Found existing installation: ribbon 0.1a0\n",
      "Uninstalling ribbon-0.1a0:\n",
      "  Successfully uninstalled ribbon-0.1a0\n",
      "Note: you may need to restart the kernel to use updated packages.\n"
     ]
    }
   ],
   "source": [
    "pip uninstall -y ribbon"
   ]
  },
  {
   "cell_type": "code",
   "execution_count": 9,
   "id": "827bf533",
   "metadata": {
    "collapsed": true
   },
   "outputs": [
    {
     "name": "stdout",
     "output_type": "stream",
     "text": [
      "Processing /Users/ruehle/GitHub/ribbon\n",
      "  Preparing metadata (setup.py) ... \u001b[?25ldone\n",
      "\u001b[?25hRequirement already satisfied: numpy in /Users/ruehle/testvenv/lib/python3.8/site-packages (from ribbon==0.1a0) (1.24.2)\n",
      "Requirement already satisfied: plink in /Users/ruehle/testvenv/lib/python3.8/site-packages (from ribbon==0.1a0) (2.4.1)\n",
      "Requirement already satisfied: snappy in /Users/ruehle/testvenv/lib/python3.8/site-packages (from ribbon==0.1a0) (3.0.3)\n",
      "Requirement already satisfied: spherogram in /Users/ruehle/testvenv/lib/python3.8/site-packages (from ribbon==0.1a0) (2.1)\n",
      "Requirement already satisfied: tk in /Users/ruehle/testvenv/lib/python3.8/site-packages (from ribbon==0.1a0) (0.1.0)\n",
      "Requirement already satisfied: wheel in /Users/ruehle/testvenv/lib/python3.8/site-packages (from ribbon==0.1a0) (0.40.0)\n",
      "Requirement already satisfied: FXrays>=1.3 in /Users/ruehle/testvenv/lib/python3.8/site-packages (from snappy->ribbon==0.1a0) (1.3.5)\n",
      "Requirement already satisfied: cypari>=2.3 in /Users/ruehle/testvenv/lib/python3.8/site-packages (from snappy->ribbon==0.1a0) (2.4.1)\n",
      "Requirement already satisfied: decorator in /Users/ruehle/testvenv/lib/python3.8/site-packages (from snappy->ribbon==0.1a0) (5.1.1)\n",
      "Requirement already satisfied: pypng in /Users/ruehle/testvenv/lib/python3.8/site-packages (from snappy->ribbon==0.1a0) (0.20220715.0)\n",
      "Requirement already satisfied: snappy-manifolds>=1.1.2 in /Users/ruehle/testvenv/lib/python3.8/site-packages (from snappy->ribbon==0.1a0) (1.1.2)\n",
      "Requirement already satisfied: ipython>=1.0 in /Users/ruehle/testvenv/lib/python3.8/site-packages (from snappy->ribbon==0.1a0) (8.11.0)\n",
      "Requirement already satisfied: knot-floer-homology>=1.1 in /Users/ruehle/testvenv/lib/python3.8/site-packages (from spherogram->ribbon==0.1a0) (1.2)\n",
      "Requirement already satisfied: networkx in /Users/ruehle/testvenv/lib/python3.8/site-packages (from spherogram->ribbon==0.1a0) (3.0)\n",
      "Requirement already satisfied: appnope in /Users/ruehle/testvenv/lib/python3.8/site-packages (from ipython>=1.0->snappy->ribbon==0.1a0) (0.1.3)\n",
      "Requirement already satisfied: pygments>=2.4.0 in /Users/ruehle/testvenv/lib/python3.8/site-packages (from ipython>=1.0->snappy->ribbon==0.1a0) (2.14.0)\n",
      "Requirement already satisfied: jedi>=0.16 in /Users/ruehle/testvenv/lib/python3.8/site-packages (from ipython>=1.0->snappy->ribbon==0.1a0) (0.18.2)\n",
      "Requirement already satisfied: backcall in /Users/ruehle/testvenv/lib/python3.8/site-packages (from ipython>=1.0->snappy->ribbon==0.1a0) (0.2.0)\n",
      "Requirement already satisfied: stack-data in /Users/ruehle/testvenv/lib/python3.8/site-packages (from ipython>=1.0->snappy->ribbon==0.1a0) (0.6.2)\n",
      "Requirement already satisfied: pexpect>4.3 in /Users/ruehle/testvenv/lib/python3.8/site-packages (from ipython>=1.0->snappy->ribbon==0.1a0) (4.8.0)\n",
      "Requirement already satisfied: pickleshare in /Users/ruehle/testvenv/lib/python3.8/site-packages (from ipython>=1.0->snappy->ribbon==0.1a0) (0.7.5)\n",
      "Requirement already satisfied: traitlets>=5 in /Users/ruehle/testvenv/lib/python3.8/site-packages (from ipython>=1.0->snappy->ribbon==0.1a0) (5.9.0)\n",
      "Requirement already satisfied: matplotlib-inline in /Users/ruehle/testvenv/lib/python3.8/site-packages (from ipython>=1.0->snappy->ribbon==0.1a0) (0.1.6)\n",
      "Requirement already satisfied: prompt-toolkit!=3.0.37,<3.1.0,>=3.0.30 in /Users/ruehle/testvenv/lib/python3.8/site-packages (from ipython>=1.0->snappy->ribbon==0.1a0) (3.0.38)\n",
      "Requirement already satisfied: parso<0.9.0,>=0.8.0 in /Users/ruehle/testvenv/lib/python3.8/site-packages (from jedi>=0.16->ipython>=1.0->snappy->ribbon==0.1a0) (0.8.3)\n",
      "Requirement already satisfied: ptyprocess>=0.5 in /Users/ruehle/testvenv/lib/python3.8/site-packages (from pexpect>4.3->ipython>=1.0->snappy->ribbon==0.1a0) (0.7.0)\n",
      "Requirement already satisfied: wcwidth in /Users/ruehle/testvenv/lib/python3.8/site-packages (from prompt-toolkit!=3.0.37,<3.1.0,>=3.0.30->ipython>=1.0->snappy->ribbon==0.1a0) (0.2.6)\n",
      "Requirement already satisfied: pure-eval in /Users/ruehle/testvenv/lib/python3.8/site-packages (from stack-data->ipython>=1.0->snappy->ribbon==0.1a0) (0.2.2)\n",
      "Requirement already satisfied: executing>=1.2.0 in /Users/ruehle/testvenv/lib/python3.8/site-packages (from stack-data->ipython>=1.0->snappy->ribbon==0.1a0) (1.2.0)\n",
      "Requirement already satisfied: asttokens>=2.1.0 in /Users/ruehle/testvenv/lib/python3.8/site-packages (from stack-data->ipython>=1.0->snappy->ribbon==0.1a0) (2.2.1)\n",
      "Requirement already satisfied: six in /Users/ruehle/testvenv/lib/python3.8/site-packages (from asttokens>=2.1.0->stack-data->ipython>=1.0->snappy->ribbon==0.1a0) (1.16.0)\n",
      "Building wheels for collected packages: ribbon\n",
      "  Building wheel for ribbon (setup.py) ... \u001b[?25ldone\n",
      "\u001b[?25h  Created wheel for ribbon: filename=ribbon-0.1a0-py3-none-any.whl size=352409 sha256=9ed09922de01c4fbb7ad75e28364b6dbb64a8298858854f6a1cfe7c1b990937a\n",
      "  Stored in directory: /private/var/folders/r3/33sjs05x2w3f5y4cmm3yr7h00000gn/T/pip-ephem-wheel-cache-fsoaqfo7/wheels/3e/6e/d4/c058900cfbbfb8644a09e0d0bea766e2d80bac721088fb525b\n",
      "Successfully built ribbon\n",
      "Installing collected packages: ribbon\n",
      "Successfully installed ribbon-0.1a0\n",
      "\u001b[33mWARNING: You are using pip version 22.0.4; however, version 23.0.1 is available.\n",
      "You should consider upgrading via the '/Users/ruehle/testvenv/bin/python -m pip install --upgrade pip' command.\u001b[0m\u001b[33m\n",
      "\u001b[0mNote: you may need to restart the kernel to use updated packages.\n"
     ]
    }
   ],
   "source": [
    "pip install '/Users/ruehle/GitHub/ribbon'"
   ]
  },
  {
   "cell_type": "code",
   "execution_count": 1,
   "id": "b7091aa3",
   "metadata": {},
   "outputs": [],
   "source": [
    "# pip install git+https://github.com/ribbon/ribbon.git"
   ]
  },
  {
   "cell_type": "markdown",
   "id": "d5a81f08",
   "metadata": {},
   "source": [
    "Next, we import the package and a few other ones that will be useful in this demonstration"
   ]
  },
  {
   "cell_type": "code",
   "execution_count": 1,
   "id": "cc6dcfcd",
   "metadata": {},
   "outputs": [],
   "source": [
    "import ribbon.rw  # the main class\n",
    "import ribbon.visualizer as visualizer  # for visualizing the output\n",
    "\n",
    "import numpy as np  # handles arrays\n",
    "import snappy  # to represent the knots\n",
    "import logging  # to print some info of what the code is doing"
   ]
  },
  {
   "cell_type": "markdown",
   "id": "bdeb0f05",
   "metadata": {},
   "source": [
    "Here are the options we can use to configure the search"
   ]
  },
  {
   "cell_type": "code",
   "execution_count": 2,
   "id": "5d21e9e8",
   "metadata": {},
   "outputs": [],
   "source": [
    "links = ['K6a3']          # links to search. Accepts a list of PD codes or link names. K6a3 is the Stevedore knot\n",
    "max_size = 10             # max number of crossings any intermediate knot can have\n",
    "max_steps =  5000         # max number of steps searched by the random walker before giving up and resetting the link\n",
    "max_tries = 10000         # number of total steps before we give up completely\n",
    "max_bct = 3               # we use the same variable to set the max number of allowed twists, link components, and bands to add. If you start with a knot, the max number of bands is the max number of components + 1, since each band adds a link component\n",
    "log_level = logging.ERROR # controls how much information is printed by the code while searching for a band\n",
    "use_checks = False        # If set to true (whcih requires sage), the code will check for slice obstructions after attaching bands, rather than keep searching more and more bands on a link that is potentially obstructed. This uses the Fox Milnor condition, which requires the Alexander Polynomial. This can be slow to compute for large knots\n",
    "save_images = True        # Will use the visualizer to save the band found by the random walker"
   ]
  },
  {
   "cell_type": "code",
   "execution_count": 3,
   "id": "59b1edd8",
   "metadata": {},
   "outputs": [],
   "source": [
    "random_walker = ribbon.rw.RandomWalker(links=links, \n",
    "                                       max_size=max_size, \n",
    "                                       max_steps=max_steps, \n",
    "                                       max_bct=max_bct, \n",
    "                                       logger=None, \n",
    "                                       log_level=log_level, \n",
    "                                       use_band_checks=use_checks, \n",
    "                                       save_solved_knot_images=save_images\n",
    "                                      )"
   ]
  },
  {
   "cell_type": "markdown",
   "id": "d2b4b037",
   "metadata": {},
   "source": [
    "## Perform random search"
   ]
  },
  {
   "cell_type": "markdown",
   "id": "682d38a2",
   "metadata": {},
   "source": [
    "Now we perform random actions that lead to random bands until we find a collection of bands that leads to the unknot, or the max number of steps has been exhausted"
   ]
  },
  {
   "cell_type": "code",
   "execution_count": 4,
   "id": "7204b284",
   "metadata": {},
   "outputs": [
    {
     "name": "stdout",
     "output_type": "stream",
     "text": [
      "Knot is ribbon!\n",
      "\u001b[31mYour new Plink window needs an event loop to become visible.\n",
      "Type \"%gui tk\" below (without the quotes) to start one.\u001b[0m\n",
      "\n"
     ]
    }
   ],
   "source": [
    "tries = 0\n",
    "while tries < max_tries:\n",
    "    tries += 1\n",
    "    if tries % 10000 == 0:\n",
    "        print(\"Performed {:d} steps.\".format(tries))\n",
    "    \n",
    "    # Find all valid actions\n",
    "    valid_actions = np.argwhere(random_walker.invalid_action_mask()).flatten()\n",
    "    \n",
    "    # pick a random one\n",
    "    a = np.random.choice(valid_actions) if len(valid_actions) > 0 else 0\n",
    "    \n",
    "    # perform the action\n",
    "    done, info = random_walker.step(a)\n",
    "        \n",
    "    # check whether the knot is done (either because the unknot was reached, or a reset was triggered)\n",
    "    if done:\n",
    "        if 'unknot' in info['result']:  # found bands\n",
    "            print(\"Knot is ribbon!\")  # this is not an error, we just want to print this message irrespective of the logger level.\n",
    "            break"
   ]
  },
  {
   "cell_type": "markdown",
   "id": "c54209a7",
   "metadata": {},
   "source": [
    "## Perform random weighted search"
   ]
  },
  {
   "cell_type": "markdown",
   "id": "053c480f",
   "metadata": {},
   "source": [
    "Alternatively, we can weight the actions differently"
   ]
  },
  {
   "cell_type": "code",
   "execution_count": 6,
   "id": "67ce1358",
   "metadata": {},
   "outputs": [],
   "source": [
    "max_action_per_category = max_size + 3\n",
    "weights = [0.25,0.85,0.05,0.05,0.15]  # this was found to work well\n",
    "weights = [float(weights[0])] * max_action_per_category + [float(weights[3]), float(weights[1]), float(weights[2])] * max_action_per_category + [float(weights[4])] * 2"
   ]
  },
  {
   "cell_type": "code",
   "execution_count": 8,
   "id": "cfa25d4b",
   "metadata": {},
   "outputs": [
    {
     "name": "stdout",
     "output_type": "stream",
     "text": [
      "Knot is ribbon!\n",
      "\u001b[31mYour new Plink window needs an event loop to become visible.\n",
      "Type \"%gui tk\" below (without the quotes) to start one.\u001b[0m\n",
      "\n"
     ]
    }
   ],
   "source": [
    "# the rest is essentially the same as before\n",
    "random_walker = ribbon.rw.RandomWalker(links=links, \n",
    "                                       max_size=max_size, \n",
    "                                       max_steps=max_steps, \n",
    "                                       max_bct=max_bct, \n",
    "                                       logger=None, \n",
    "                                       log_level=log_level, \n",
    "                                       use_band_checks=use_checks, \n",
    "                                       save_solved_knot_images=save_images\n",
    "                                      )\n",
    "\n",
    "tries = 0\n",
    "while tries < max_tries:\n",
    "    tries += 1\n",
    "    if tries % 10000 == 0:\n",
    "        print(\"Performed {:d} steps.\".format(tries))\n",
    "    \n",
    "    # Find all valid actions\n",
    "    valid_actions = np.array(random_walker.invalid_action_mask(), dtype=float)\n",
    "    \n",
    "    # pick a random valid action weighted according to the weights specified above\n",
    "    ws = weights * valid_actions\n",
    "    ws = ws / np.sum(ws) if np.sum(ws) != 0 else [1./(4 * max_size + 2)] * (4 * max_size + 2)\n",
    "    a = np.random.choice(len(valid_actions), p=ws) if valid_actions.any() else 0\n",
    "    \n",
    "    # perform the action\n",
    "    done, info = random_walker.step(a)\n",
    "        \n",
    "    # check whether the knot is done (either because the unknot was reached, or a reset was triggered)\n",
    "    if done:\n",
    "        if 'unknot' in info['result']:  # found bands\n",
    "            print(\"Knot is ribbon!\")  # this is not an error, we just want to print this message irrespective of the logger level.\n",
    "            break"
   ]
  },
  {
   "cell_type": "markdown",
   "id": "7929350b",
   "metadata": {},
   "source": [
    "## Perform parallel search"
   ]
  },
  {
   "cell_type": "markdown",
   "id": "a3217169",
   "metadata": {},
   "source": [
    "Since the search is random, it can be parallelized very easily, either by running the Random Walker on the same knot multiple times, or over many different knots.\n",
    "\n",
    "For the parallelization, we use 2 packages that are not necessary to run the program itself:\n",
    "* joblib to parallelize\n",
    "* tqdm for a progress bar\n",
    "\n",
    "If you dont have these packages, you can install them by commenting out the lines below"
   ]
  },
  {
   "cell_type": "code",
   "execution_count": 11,
   "id": "89567f29",
   "metadata": {},
   "outputs": [],
   "source": [
    "# pip install joblib tqdm"
   ]
  },
  {
   "cell_type": "code",
   "execution_count": 24,
   "id": "b4da11ea",
   "metadata": {},
   "outputs": [],
   "source": [
    "import joblib  # for parallelization\n",
    "from tqdm import tqdm  # for progress bar\n",
    "import contextlib  # for progress bar\n",
    "import time  # for timing out computation"
   ]
  },
  {
   "cell_type": "code",
   "execution_count": 31,
   "id": "42b6d751",
   "metadata": {},
   "outputs": [],
   "source": [
    "# this runs the search\n",
    "# Args:\n",
    "#    max_size (int):     Max number of crossings of any link encountered\n",
    "#    timeout (int):      Max time in seconds to search a knot before giving up\n",
    "#    max_tries (int):    Max number of times a knot is tried before giving up. Set to -1 for infinite tries (or until timeout is reached)\n",
    "#    max_bands (int):    Max number of bands to try (and max number of twists and max number of components)\n",
    "#    save_images (bool): Wheter an image that shows the band which was found should be saved\n",
    "#    use_checks (bool):  Wheter slice obstructions should be checked after each band addition (if True, requires sage)\n",
    "#    knot_name (str):    A name for the knot (only used for saving the image)\n",
    "#    weights (list):     A list of weights for the 5 actions\n",
    "#    max_steps (int):    Max steps to try before resetting the knot and starting over\n",
    "#    log_level (int):    How much information is printed\n",
    "#\n",
    "# Returns:\n",
    "#    bool:               True if a band was found within the specified time and/or number of tries, false otherwise\n",
    "def run_rw_parallel(knot, max_size, timeout=5*60, max_tries=-1, max_bands=4, save_images=True, use_checks=False, knot_name=\"\", weights=None, max_steps=50, log_level=logging.ERROR):\n",
    "    max_bands = max_bands\n",
    "    num_xing = len(knot)\n",
    "    max_size = max(int(1.25 * num_xing), max_size)\n",
    "    max_action_per_category = max_size + 3\n",
    "    if weights is not None:\n",
    "        weights = [float(weights[0])] * max_action_per_category + [float(weights[3]), float(weights[1]), float(weights[2])] * max_action_per_category + [float(weights[4])] * 2\n",
    "    \n",
    "    if not isinstance(knot, str):\n",
    "        knot = [[list(k) for k in knot]]\n",
    "    else:\n",
    "        knot = [knot]\n",
    "    \n",
    "    random_walker = ribbon.rw.RandomWalker(links=knot, \n",
    "                                           max_size=max_size, \n",
    "                                           max_steps=max_steps, \n",
    "                                           max_bct=max_bct, \n",
    "                                           log_level=log_level, \n",
    "                                           use_band_checks=use_checks, \n",
    "                                           save_solved_knot_images=save_images,\n",
    "                                           save_knot_name=str(knot_name)\n",
    "                                          )\n",
    "    start_time, found_bands, tries = time.time(), False, 0\n",
    "    while (time.time() - start_time < timeout) and (max_tries == -1 or tries <= max_tries):\n",
    "        try:\n",
    "            tries += 1\n",
    "            if tries % 10000 == 0: \n",
    "                    print(\"Performed {:4d} steps. Currently at knot {}.\".format(tries, random_walker.L.PD_code()))\n",
    "            # random sample valid action\n",
    "            if weights is None:\n",
    "                valid_actions = np.argwhere(random_walker.invalid_action_mask()).flatten()\n",
    "                a = np.random.choice(valid_actions) if len(valid_actions) > 0 else 0\n",
    "            else:\n",
    "                valid_actions = np.array(random_walker.invalid_action_mask(), dtype=float)\n",
    "                ws = weights * valid_actions\n",
    "                ws = ws / np.sum(ws) if np.sum(ws) != 0 else [1. / (4 * max_size + 2)] * (4 * max_size + 2)\n",
    "                a = np.random.choice(len(valid_actions), p=ws) if valid_actions.any() else 0\n",
    "            \n",
    "            done, info = random_walker.step(a)\n",
    "\n",
    "            if done:\n",
    "                if 'unknot' in info['result']:  # solved the knot\n",
    "                    found_bands = True\n",
    "                    print(\"Solved knot {}\".format(knot_name))\n",
    "                    break\n",
    "                else:\n",
    "                    random_walker.reset(\"True\")\n",
    "        except Exception as e:\n",
    "            print(\"Exception raised:\", e)\n",
    "            random_walker = ribbon.rw.RandomWalker(links=knot, \n",
    "                                           max_size=max_size, \n",
    "                                           max_steps=max_steps, \n",
    "                                           max_bct=max_bct, \n",
    "                                           log_level=log_level, \n",
    "                                           use_band_checks=use_checks, \n",
    "                                           save_solved_knot_images=save_images,\n",
    "                                           save_knot_name=str(knot_name)\n",
    "                                          )\n",
    "    \n",
    "    return found_bands\n",
    "\n",
    "# this is for the progress bar\n",
    "@contextlib.contextmanager\n",
    "def tqdm_joblib(tqdm_object):\n",
    "    class TqdmBatchCompletionCallback(joblib.parallel.BatchCompletionCallBack):\n",
    "        def __call__(self, *args, **kwargs):\n",
    "            tqdm_object.update(n=self.batch_size)\n",
    "            return super().__call__(*args, **kwargs)\n",
    "\n",
    "    old_batch_callback = joblib.parallel.BatchCompletionCallBack\n",
    "    joblib.parallel.BatchCompletionCallBack = TqdmBatchCompletionCallback\n",
    "    try:\n",
    "        yield tqdm_object\n",
    "    finally:\n",
    "        joblib.parallel.BatchCompletionCallBack = old_batch_callback\n",
    "        tqdm_object.close()"
   ]
  },
  {
   "cell_type": "markdown",
   "id": "998d2b64",
   "metadata": {},
   "source": [
    "run this function multiple times in parallel"
   ]
  },
  {
   "cell_type": "code",
   "execution_count": 32,
   "id": "5a819ac3",
   "metadata": {},
   "outputs": [],
   "source": [
    "knots = ['K13n3162', 'K14a3636', 'K14a5890', 'K14n11236']  # some ribbon knots for which finding bands is hard\n",
    "weights = [0.25, 0.85, 0.05, 0.05, 0.15]  # these work well\n",
    "timeout = 5*60  # 60s\n",
    "n_jobs = 4  # number of parallel search threads\n",
    "\n",
    "max_size = 40\n",
    "max_steps =  5000\n",
    "max_tries = -1  # try until timeout\n",
    "max_bct = 3\n",
    "log_level = logging.ERROR\n",
    "use_checks = False\n",
    "save_images = True"
   ]
  },
  {
   "cell_type": "code",
   "execution_count": 33,
   "id": "d0cc86e2",
   "metadata": {},
   "outputs": [
    {
     "name": "stderr",
     "output_type": "stream",
     "text": [
      "\n",
      "Testing knots:   0%|                                                                                                                                                           | 0/4 [00:00<?, ?it/s]\u001b[A\n",
      "Testing knots:  25%|████████████████████████████████████▊                                                                                                              | 1/4 [00:18<00:56, 18.93s/it]\u001b[A\n",
      "Testing knots:  50%|█████████████████████████████████████████████████████████████████████████▌                                                                         | 2/4 [01:29<01:38, 49.14s/it]\u001b[A\n",
      "Testing knots: 100%|███████████████████████████████████████████████████████████████████████████████████████████████████████████████████████████████████████████████████| 4/4 [05:00<00:00, 75.11s/it]\u001b[A\n"
     ]
    },
    {
     "name": "stdout",
     "output_type": "stream",
     "text": [
      "Performed 10000 steps. Currently at knot [(1, 15, 2, 14), (15, 3, 16, 2), (21, 10, 18, 11), (7, 18, 8, 19), (5, 17, 6, 16), (17, 7, 14, 6), (19, 8, 20, 9), (9, 20, 10, 21), (3, 12, 4, 13), (13, 4, 0, 5), (11, 0, 12, 1)].\n",
      "Performed 20000 steps. Currently at knot [(1, 5, 2, 4), (5, 3, 0, 2), (7, 10, 8, 11), (11, 8, 6, 9), (9, 6, 10, 7), (3, 1, 4, 0)].\n",
      "Performed 30000 steps. Currently at knot [(7, 11, 8, 10), (11, 9, 6, 8), (9, 7, 10, 6), (1, 4, 2, 5), (5, 2, 0, 3), (3, 0, 4, 1)].\n",
      "Solved knot K14n11236\n"
     ]
    }
   ],
   "source": [
    "with tqdm_joblib(tqdm(desc=\"Testing knots\", total=len(knots))) as progress_bar:\n",
    "    results = joblib.Parallel(n_jobs=n_jobs, backend='loky')(joblib.delayed(run_rw_parallel)(knot, timeout=timeout, save_images=save_images, use_checks=use_checks, max_size=max_size, max_bands=max_bct, weights=weights, max_steps=max_steps, log_level=log_level, knot_name=str(knot)) for knot in knots)"
   ]
  },
  {
   "cell_type": "code",
   "execution_count": 37,
   "id": "a3776bd9",
   "metadata": {},
   "outputs": [
    {
     "name": "stdout",
     "output_type": "stream",
     "text": [
      "Found band for knot K13n3162  : False\n",
      "Found band for knot K14a3636  : True\n",
      "Found band for knot K14a5890  : False\n",
      "Found band for knot K14n11236 : True\n",
      "Performed 10000 steps. Currently at knot [(13, 17, 14, 16), (15, 6, 16, 7), (7, 14, 8, 15), (17, 13, 18, 12), (11, 23, 12, 22), (23, 11, 22, 10), (9, 3, 10, 2), (3, 9, 4, 8), (5, 18, 6, 19), (19, 4, 0, 5), (1, 20, 2, 21), (21, 0, 20, 1)].\n",
      "Performed 20000 steps. Currently at knot [(2, 0, 3, 27), (0, 9, 1, 10), (8, 1, 9, 2), (18, 4, 19, 3), (4, 25, 5, 26), (20, 5, 21, 6), (6, 14, 7, 13), (12, 8, 13, 7), (10, 17, 11, 18), (16, 11, 17, 12), (14, 24, 15, 23), (22, 16, 23, 15), (26, 20, 27, 19), (24, 21, 25, 22)].\n",
      "Performed 30000 steps. Currently at knot [(2, 0, 3, 27), (0, 9, 1, 10), (8, 1, 9, 2), (18, 4, 19, 3), (4, 25, 5, 26), (20, 5, 21, 6), (6, 14, 7, 13), (12, 8, 13, 7), (10, 17, 11, 18), (16, 11, 17, 12), (14, 24, 15, 23), (22, 16, 23, 15), (26, 20, 27, 19), (24, 21, 25, 22)].\n",
      "Performed 40000 steps. Currently at knot [(2, 0, 3, 27), (0, 9, 1, 10), (8, 1, 9, 2), (18, 4, 19, 3), (4, 25, 5, 26), (20, 5, 21, 6), (6, 14, 7, 13), (12, 8, 13, 7), (10, 17, 11, 18), (16, 11, 17, 12), (14, 24, 15, 23), (22, 16, 23, 15), (26, 20, 27, 19), (24, 21, 25, 22)].\n",
      "Performed 50000 steps. Currently at knot [(21, 25, 22, 24), (25, 8, 20, 9), (7, 20, 8, 21), (17, 23, 18, 22), (19, 4, 0, 5), (5, 13, 6, 12), (11, 7, 12, 6), (9, 16, 10, 17), (15, 10, 16, 11), (13, 3, 14, 2), (1, 15, 2, 14), (23, 19, 24, 18), (3, 0, 4, 1)].\n",
      "Performed 60000 steps. Currently at knot [(21, 8, 20, 9), (7, 20, 8, 21), (17, 23, 18, 22), (19, 4, 0, 5), (5, 13, 6, 12), (11, 7, 12, 6), (9, 16, 10, 17), (15, 10, 16, 11), (13, 3, 14, 2), (1, 15, 2, 14), (23, 19, 22, 18), (3, 0, 4, 1)].\n",
      "Performed 70000 steps. Currently at knot [(1, 5, 2, 4), (3, 17, 4, 16), (15, 3, 16, 2), (7, 12, 8, 13), (13, 21, 14, 20), (19, 15, 20, 14), (17, 24, 18, 25), (23, 18, 24, 19), (21, 11, 22, 10), (9, 23, 10, 22), (5, 6, 0, 7), (11, 8, 12, 9), (25, 0, 6, 1)].\n",
      "Performed 80000 steps. Currently at knot [(2, 0, 3, 27), (0, 9, 1, 10), (8, 1, 9, 2), (18, 4, 19, 3), (4, 25, 5, 26), (20, 5, 21, 6), (6, 14, 7, 13), (12, 8, 13, 7), (10, 17, 11, 18), (16, 11, 17, 12), (14, 24, 15, 23), (22, 16, 23, 15), (26, 20, 27, 19), (24, 21, 25, 22)].\n",
      "Performed 90000 steps. Currently at knot [(2, 0, 3, 27), (0, 9, 1, 10), (8, 1, 9, 2), (18, 4, 19, 3), (4, 25, 5, 26), (20, 5, 21, 6), (6, 14, 7, 13), (12, 8, 13, 7), (10, 17, 11, 18), (16, 11, 17, 12), (14, 24, 15, 23), (22, 16, 23, 15), (26, 20, 27, 19), (24, 21, 25, 22)].\n",
      "Performed 100000 steps. Currently at knot [(19, 23, 20, 22), (21, 12, 22, 13), (13, 20, 14, 21), (23, 19, 24, 18), (17, 5, 18, 4), (5, 17, 0, 16), (15, 9, 16, 8), (9, 15, 10, 14), (11, 24, 12, 25), (25, 10, 6, 11), (7, 2, 8, 3), (1, 6, 2, 7), (3, 0, 4, 1)].\n",
      "Performed 110000 steps. Currently at knot [(18, 22, 19, 21), (20, 11, 21, 12), (12, 19, 13, 20), (22, 18, 23, 17), (16, 28, 17, 27), (28, 16, 29, 15), (14, 8, 15, 7), (8, 14, 9, 13), (10, 0, 11, 3), (2, 10, 3, 9), (6, 25, 7, 26), (26, 29, 27, 24), (24, 5, 25, 6), (1, 4, 2, 5), (23, 0, 4, 1)].\n",
      "Performed 120000 steps. Currently at knot [(2, 6, 3, 5), (4, 16, 5, 15), (14, 4, 15, 3), (6, 2, 7, 1), (9, 12, 0, 13), (22, 20, 23, 19), (18, 14, 19, 23), (16, 8, 17, 7), (8, 18, 9, 17), (20, 11, 21, 12), (10, 21, 11, 22), (13, 0, 10, 1)].\n",
      "Performed 130000 steps. Currently at knot [(28, 12, 29, 11), (13, 31, 14, 30), (1, 26, 2, 27), (19, 16, 20, 17), (15, 9, 16, 8), (9, 15, 10, 14), (12, 3, 13, 4), (5, 10, 6, 11), (24, 8, 25, 7), (27, 22, 28, 23), (17, 18, 0, 19), (31, 21, 26, 20), (21, 3, 22, 2), (6, 24, 7, 23), (29, 4, 30, 5), (25, 0, 18, 1)].\n",
      "Performed 140000 steps. Currently at knot [(7, 13, 8, 12), (21, 7, 22, 6), (5, 14, 6, 15), (19, 4, 20, 5), (3, 27, 4, 26), (27, 3, 10, 2), (11, 22, 12, 23), (23, 10, 24, 11), (25, 17, 26, 16), (17, 25, 18, 24), (13, 21, 14, 20), (15, 18, 16, 19), (1, 8, 0, 9), (9, 0, 2, 1)].\n",
      "Performed 150000 steps. Currently at knot [(15, 19, 16, 18), (19, 7, 14, 6), (7, 15, 0, 14), (11, 16, 12, 17), (5, 12, 6, 13), (9, 3, 10, 2), (3, 9, 4, 8), (1, 4, 2, 5), (17, 10, 18, 11), (13, 0, 8, 1)].\n",
      "Performed 160000 steps. Currently at knot [(21, 2, 22, 3), (1, 11, 2, 10), (19, 23, 20, 22), (23, 5, 24, 4), (9, 25, 0, 24), (25, 15, 26, 14), (13, 27, 14, 26), (11, 18, 12, 19), (17, 12, 18, 13), (15, 6, 16, 7), (7, 16, 8, 17), (3, 20, 4, 21), (5, 8, 6, 9), (27, 1, 10, 0)].\n",
      "Performed 170000 steps. Currently at knot [(7, 17, 8, 16), (1, 8, 2, 9), (17, 7, 18, 6), (5, 20, 6, 21), (3, 13, 4, 12), (13, 3, 14, 2), (15, 18, 0, 19), (9, 14, 10, 15), (11, 23, 12, 22), (23, 11, 22, 10), (21, 4, 20, 5), (19, 0, 16, 1)].\n",
      "Performed 180000 steps. Currently at knot [(21, 25, 22, 24), (25, 8, 20, 9), (7, 20, 8, 21), (17, 23, 18, 22), (19, 4, 0, 5), (5, 13, 6, 12), (11, 7, 12, 6), (9, 16, 10, 17), (15, 10, 16, 11), (13, 3, 14, 2), (1, 15, 2, 14), (23, 19, 24, 18), (3, 0, 4, 1)].\n",
      "Performed 190000 steps. Currently at knot [(19, 23, 20, 22), (21, 12, 22, 13), (13, 20, 14, 21), (23, 19, 24, 18), (17, 5, 18, 4), (5, 17, 0, 16), (15, 9, 16, 8), (9, 15, 10, 14), (11, 24, 12, 25), (25, 10, 6, 11), (7, 2, 8, 3), (1, 6, 2, 7), (3, 0, 4, 1)].\n",
      "Performed 200000 steps. Currently at knot [(19, 23, 20, 22), (21, 12, 22, 13), (13, 20, 14, 21), (23, 19, 24, 18), (17, 5, 18, 4), (5, 17, 0, 16), (15, 9, 16, 8), (9, 15, 10, 14), (11, 24, 12, 25), (25, 10, 6, 11), (7, 2, 8, 3), (1, 6, 2, 7), (3, 0, 4, 1)].\n",
      "Performed 210000 steps. Currently at knot [(2, 0, 3, 27), (0, 9, 1, 10), (8, 1, 9, 2), (18, 4, 19, 3), (4, 25, 5, 26), (20, 5, 21, 6), (6, 14, 7, 13), (12, 8, 13, 7), (10, 17, 11, 18), (16, 11, 17, 12), (14, 24, 15, 23), (22, 16, 23, 15), (26, 20, 27, 19), (24, 21, 25, 22)].\n",
      "Performed 220000 steps. Currently at knot [(19, 23, 20, 22), (21, 12, 22, 13), (13, 20, 14, 21), (23, 19, 24, 18), (17, 5, 18, 4), (5, 17, 0, 16), (15, 9, 16, 8), (9, 15, 10, 14), (11, 24, 12, 25), (25, 10, 6, 11), (7, 2, 8, 3), (1, 6, 2, 7), (3, 0, 4, 1)].\n",
      "Performed 230000 steps. Currently at knot [(21, 25, 22, 24), (25, 8, 20, 9), (7, 20, 8, 21), (17, 23, 18, 22), (19, 4, 0, 5), (5, 13, 6, 12), (11, 7, 12, 6), (9, 16, 10, 17), (15, 10, 16, 11), (13, 3, 14, 2), (1, 15, 2, 14), (23, 19, 24, 18), (3, 0, 4, 1)].\n",
      "Performed 240000 steps. Currently at knot [(21, 25, 22, 24), (25, 8, 20, 9), (7, 20, 8, 21), (17, 23, 18, 22), (19, 4, 0, 5), (5, 13, 6, 12), (11, 7, 12, 6), (9, 16, 10, 17), (15, 10, 16, 11), (13, 3, 14, 2), (1, 15, 2, 14), (23, 19, 24, 18), (3, 0, 4, 1)].\n",
      "Performed 250000 steps. Currently at knot [(15, 13, 8, 12), (13, 10, 14, 11), (9, 14, 10, 15), (11, 9, 12, 8), (7, 3, 0, 2), (3, 7, 4, 6), (1, 4, 2, 5), (5, 0, 6, 1)].\n",
      "Performed 260000 steps. Currently at knot [(2, 0, 3, 27), (0, 9, 1, 10), (8, 1, 9, 2), (18, 4, 19, 3), (4, 25, 5, 26), (20, 5, 21, 6), (6, 14, 7, 13), (12, 8, 13, 7), (10, 17, 11, 18), (16, 11, 17, 12), (14, 24, 15, 23), (22, 16, 23, 15), (26, 20, 27, 19), (24, 21, 25, 22)].\n",
      "Performed 270000 steps. Currently at knot [(21, 25, 22, 24), (25, 8, 20, 9), (7, 20, 8, 21), (17, 23, 18, 22), (19, 4, 0, 5), (5, 13, 6, 12), (11, 7, 12, 6), (9, 16, 10, 17), (15, 10, 16, 11), (13, 3, 14, 2), (1, 15, 2, 14), (23, 19, 24, 18), (3, 0, 4, 1)].\n",
      "Performed 280000 steps. Currently at knot [(15, 13, 16, 12), (13, 27, 14, 26), (27, 15, 24, 14), (3, 17, 4, 16), (17, 10, 18, 11), (5, 18, 6, 19), (19, 22, 0, 23), (25, 3, 26, 2), (21, 8, 22, 9), (7, 20, 8, 21), (11, 5, 12, 4), (9, 6, 10, 7), (1, 25, 2, 24), (23, 0, 20, 1)].\n",
      "Performed 290000 steps. Currently at knot [(19, 23, 20, 22), (21, 12, 22, 13), (13, 20, 14, 21), (23, 19, 24, 18), (17, 5, 18, 4), (5, 17, 0, 16), (15, 9, 16, 8), (9, 15, 10, 14), (11, 24, 12, 25), (25, 10, 6, 11), (7, 2, 8, 3), (1, 6, 2, 7), (3, 0, 4, 1)].\n",
      "Performed 300000 steps. Currently at knot [(19, 23, 20, 22), (21, 12, 22, 13), (13, 20, 14, 21), (23, 19, 24, 18), (17, 5, 18, 4), (5, 17, 0, 16), (15, 9, 16, 8), (9, 15, 10, 14), (11, 24, 12, 25), (25, 10, 6, 11), (7, 2, 8, 3), (1, 6, 2, 7), (3, 0, 4, 1)].\n",
      "Performed 310000 steps. Currently at knot [(2, 0, 3, 27), (0, 9, 1, 10), (8, 1, 9, 2), (18, 4, 19, 3), (4, 25, 5, 26), (20, 5, 21, 6), (6, 14, 7, 13), (12, 8, 13, 7), (10, 17, 11, 18), (16, 11, 17, 12), (14, 24, 15, 23), (22, 16, 23, 15), (26, 20, 27, 19), (24, 21, 25, 22)].\n",
      "Performed 320000 steps. Currently at knot [(2, 0, 3, 27), (0, 9, 1, 10), (8, 1, 9, 2), (18, 4, 19, 3), (4, 25, 5, 26), (20, 5, 21, 6), (6, 14, 7, 13), (12, 8, 13, 7), (10, 17, 11, 18), (16, 11, 17, 12), (14, 24, 15, 23), (22, 16, 23, 15), (26, 20, 27, 19), (24, 21, 25, 22)].\n",
      "Performed 330000 steps. Currently at knot [(2, 0, 3, 27), (0, 9, 1, 10), (8, 1, 9, 2), (18, 4, 19, 3), (4, 25, 5, 26), (20, 5, 21, 6), (6, 14, 7, 13), (12, 8, 13, 7), (10, 17, 11, 18), (16, 11, 17, 12), (14, 24, 15, 23), (22, 16, 23, 15), (26, 20, 27, 19), (24, 21, 25, 22)].\n",
      "Performed 340000 steps. Currently at knot [(21, 8, 20, 9), (7, 20, 8, 21), (17, 23, 18, 22), (19, 4, 0, 5), (5, 13, 6, 12), (11, 7, 12, 6), (9, 16, 10, 17), (15, 10, 16, 11), (13, 3, 14, 2), (1, 15, 2, 14), (23, 19, 22, 18), (3, 0, 4, 1)].\n",
      "Performed 350000 steps. Currently at knot [(2, 0, 3, 27), (0, 9, 1, 10), (8, 1, 9, 2), (18, 4, 19, 3), (4, 25, 5, 26), (20, 5, 21, 6), (6, 14, 7, 13), (12, 8, 13, 7), (10, 17, 11, 18), (16, 11, 17, 12), (14, 24, 15, 23), (22, 16, 23, 15), (26, 20, 27, 19), (24, 21, 25, 22)].\n",
      "Performed 360000 steps. Currently at knot [(7, 5, 8, 4), (5, 14, 6, 15), (13, 6, 14, 7), (3, 9, 4, 8), (23, 10, 24, 11), (11, 19, 12, 18), (17, 13, 18, 12), (15, 2, 0, 3), (19, 27, 20, 26), (27, 24, 22, 25), (9, 22, 10, 23), (25, 21, 26, 20), (1, 16, 2, 17), (21, 0, 16, 1)].\n",
      "Performed 370000 steps. Currently at knot [(2, 0, 3, 27), (0, 9, 1, 10), (8, 1, 9, 2), (18, 4, 19, 3), (4, 25, 5, 26), (20, 5, 21, 6), (6, 14, 7, 13), (12, 8, 13, 7), (10, 17, 11, 18), (16, 11, 17, 12), (14, 24, 15, 23), (22, 16, 23, 15), (26, 20, 27, 19), (24, 21, 25, 22)].\n",
      "Performed 380000 steps. Currently at knot [(17, 11, 8, 10), (9, 3, 10, 2), (1, 9, 2, 8), (28, 6, 29, 5), (6, 23, 7, 24), (24, 7, 25, 0), (19, 26, 20, 27), (22, 14, 23, 13), (14, 22, 15, 21), (11, 19, 12, 18), (12, 27, 13, 28), (20, 16, 21, 15), (25, 16, 26, 17), (4, 18, 5, 29), (3, 1, 4, 0)].\n",
      "Performed 390000 steps. Currently at knot [(3, 7, 4, 6), (1, 4, 2, 5), (7, 3, 8, 2), (17, 13, 10, 12), (13, 17, 14, 16), (11, 14, 12, 15), (15, 10, 16, 11), (5, 8, 0, 9), (9, 0, 6, 1)].\n",
      "Performed 400000 steps. Currently at knot [(2, 0, 3, 27), (0, 9, 1, 10), (8, 1, 9, 2), (18, 4, 19, 3), (4, 25, 5, 26), (20, 5, 21, 6), (6, 14, 7, 13), (12, 8, 13, 7), (10, 17, 11, 18), (16, 11, 17, 12), (14, 24, 15, 23), (22, 16, 23, 15), (26, 20, 27, 19), (24, 21, 25, 22)].\n",
      "Performed 410000 steps. Currently at knot [(21, 25, 22, 24), (25, 8, 20, 9), (7, 20, 8, 21), (17, 23, 18, 22), (19, 4, 0, 5), (5, 13, 6, 12), (11, 7, 12, 6), (9, 16, 10, 17), (15, 10, 16, 11), (13, 3, 14, 2), (1, 15, 2, 14), (23, 19, 24, 18), (3, 0, 4, 1)].\n",
      "Performed 420000 steps. Currently at knot [(3, 7, 4, 6), (5, 16, 6, 17), (17, 4, 18, 5), (7, 3, 8, 2), (1, 20, 2, 21), (19, 13, 0, 12), (13, 19, 14, 18), (15, 8, 16, 9), (9, 14, 10, 15), (11, 23, 12, 22), (23, 11, 24, 10), (21, 24, 22, 25), (25, 0, 20, 1)].\n",
      "Performed 430000 steps. Currently at knot [(19, 23, 20, 22), (21, 12, 22, 13), (13, 20, 14, 21), (23, 19, 24, 18), (17, 5, 18, 4), (5, 17, 0, 16), (15, 9, 16, 8), (9, 15, 10, 14), (11, 24, 12, 25), (25, 10, 6, 11), (7, 2, 8, 3), (1, 6, 2, 7), (3, 0, 4, 1)].\n",
      "Performed 440000 steps. Currently at knot [(2, 0, 3, 27), (0, 9, 1, 10), (8, 1, 9, 2), (18, 4, 19, 3), (4, 25, 5, 26), (20, 5, 21, 6), (6, 14, 7, 13), (12, 8, 13, 7), (10, 17, 11, 18), (16, 11, 17, 12), (14, 24, 15, 23), (22, 16, 23, 15), (26, 20, 27, 19), (24, 21, 25, 22)].\n",
      "Performed 450000 steps. Currently at knot [(19, 23, 20, 22), (21, 12, 22, 13), (13, 20, 14, 21), (23, 19, 24, 18), (17, 5, 18, 4), (5, 17, 0, 16), (15, 9, 16, 8), (9, 15, 10, 14), (11, 24, 12, 25), (25, 10, 6, 11), (7, 2, 8, 3), (1, 6, 2, 7), (3, 0, 4, 1)].\n",
      "Performed 460000 steps. Currently at knot [(2, 0, 3, 27), (0, 9, 1, 10), (8, 1, 9, 2), (18, 4, 19, 3), (4, 25, 5, 26), (20, 5, 21, 6), (6, 14, 7, 13), (12, 8, 13, 7), (10, 17, 11, 18), (16, 11, 17, 12), (14, 24, 15, 23), (22, 16, 23, 15), (26, 20, 27, 19), (24, 21, 25, 22)].\n",
      "Performed 470000 steps. Currently at knot [(21, 25, 22, 24), (25, 8, 20, 9), (7, 20, 8, 21), (17, 23, 18, 22), (19, 4, 0, 5), (5, 13, 6, 12), (11, 7, 12, 6), (9, 16, 10, 17), (15, 10, 16, 11), (13, 3, 14, 2), (1, 15, 2, 14), (23, 19, 24, 18), (3, 0, 4, 1)].\n",
      "Performed 480000 steps. Currently at knot [(1, 22, 2, 23), (21, 9, 22, 8), (7, 21, 8, 20), (17, 3, 0, 2), (3, 19, 4, 18), (19, 5, 20, 4), (5, 13, 6, 12), (11, 7, 12, 6), (9, 16, 10, 17), (15, 10, 16, 11), (13, 24, 14, 25), (25, 14, 24, 15), (23, 0, 18, 1)].\n",
      "Performed 10000 steps. Currently at knot [(8, 11, 9, 12), (12, 9, 13, 0), (3, 11, 4, 10), (13, 3, 10, 2), (1, 6, 2, 7), (7, 4, 8, 5), (5, 0, 6, 1)].\n",
      "Performed 20000 steps. Currently at knot [(1, 10, 2, 11), (13, 2, 10, 3), (6, 12, 7, 11), (12, 6, 13, 5), (3, 8, 4, 9), (9, 4, 0, 5), (7, 0, 8, 1)].\n",
      "Performed 30000 steps. Currently at knot [(7, 12, 8, 13), (11, 8, 12, 9), (4, 10, 5, 13), (10, 4, 11, 3), (1, 6, 2, 7), (9, 2, 0, 3), (5, 0, 6, 1)].\n",
      "Performed 40000 steps. Currently at knot [(14, 18, 15, 21), (2, 15, 3, 16), (8, 2, 9, 1), (4, 11, 5, 12), (13, 6, 14, 7), (9, 16, 10, 17), (20, 7, 21, 8), (19, 13, 20, 12), (5, 18, 6, 19), (3, 11, 0, 10), (17, 0, 4, 1)].\n",
      "Performed 50000 steps. Currently at knot [(8, 13, 9, 10), (10, 1, 11, 2), (6, 12, 7, 11), (12, 4, 13, 3), (2, 7, 3, 8), (9, 4, 0, 5), (5, 0, 6, 1)].\n",
      "Performed 60000 steps. Currently at knot [(4, 2, 5, 1), (2, 13, 3, 14), (12, 3, 13, 4), (18, 6, 19, 5), (6, 18, 7, 17), (16, 8, 17, 7), (8, 16, 9, 15), (14, 10, 15, 9), (21, 11, 22, 10), (11, 21, 12, 20), (19, 22, 0, 23), (23, 0, 20, 1)].\n",
      "Performed 70000 steps. Currently at knot [(1, 10, 2, 11), (9, 2, 10, 3), (7, 13, 8, 12), (13, 7, 14, 6), (5, 15, 6, 14), (15, 5, 12, 4), (3, 8, 0, 9), (11, 0, 4, 1)].\n",
      "Performed 80000 steps. Currently at knot [(8, 11, 9, 12), (12, 9, 13, 0), (3, 11, 4, 10), (13, 3, 10, 2), (1, 6, 2, 7), (7, 4, 8, 5), (5, 0, 6, 1)].\n",
      "Performed 90000 steps. Currently at knot [(2, 0, 3, 25), (0, 11, 1, 12), (10, 1, 11, 2), (16, 4, 17, 3), (4, 16, 5, 15), (14, 6, 15, 5), (6, 14, 7, 13), (12, 8, 13, 7), (21, 9, 22, 8), (9, 21, 10, 20), (17, 22, 18, 23), (23, 18, 24, 19), (19, 24, 20, 25)].\n",
      "Performed 100000 steps. Currently at knot [(4, 2, 5, 1), (2, 13, 3, 14), (12, 3, 13, 4), (18, 6, 19, 5), (6, 18, 7, 17), (16, 8, 17, 7), (8, 16, 9, 15), (14, 10, 15, 9), (21, 11, 22, 10), (11, 21, 12, 20), (19, 22, 0, 23), (23, 0, 20, 1)].\n",
      "Performed 110000 steps. Currently at knot [(8, 13, 9, 10), (10, 1, 11, 2), (6, 12, 7, 11), (12, 4, 13, 3), (2, 7, 3, 8), (9, 4, 0, 5), (5, 0, 6, 1)].\n",
      "Performed 120000 steps. Currently at knot [(8, 13, 9, 10), (10, 1, 11, 2), (6, 12, 7, 11), (12, 4, 13, 3), (2, 7, 3, 8), (9, 4, 0, 5), (5, 0, 6, 1)].\n",
      "Performed 130000 steps. Currently at knot [(4, 2, 5, 1), (2, 13, 3, 14), (12, 3, 13, 4), (18, 6, 19, 5), (6, 18, 7, 17), (16, 8, 17, 7), (8, 16, 9, 15), (14, 10, 15, 9), (21, 11, 22, 10), (11, 21, 12, 20), (19, 22, 0, 23), (23, 0, 20, 1)].\n",
      "Performed 140000 steps. Currently at knot [(8, 13, 9, 10), (12, 9, 13, 0), (4, 12, 5, 11), (10, 4, 11, 3), (1, 6, 2, 7), (7, 2, 8, 3), (5, 0, 6, 1)].\n",
      "Performed 150000 steps. Currently at knot [(16, 0, 17, 19), (18, 7, 19, 8), (8, 17, 9, 18), (2, 16, 3, 15), (14, 4, 15, 3), (4, 14, 5, 13), (12, 6, 13, 5), (6, 12, 7, 11), (21, 10, 22, 11), (9, 20, 10, 21), (1, 23, 2, 22), (23, 1, 20, 0)].\n",
      "Performed 160000 steps. Currently at knot [(8, 13, 9, 10), (12, 9, 13, 0), (4, 12, 5, 11), (10, 4, 11, 3), (1, 6, 2, 7), (7, 2, 8, 3), (5, 0, 6, 1)].\n",
      "Performed 170000 steps. Currently at knot [(4, 2, 5, 1), (2, 13, 3, 14), (12, 3, 13, 4), (18, 6, 19, 5), (6, 18, 7, 17), (16, 8, 17, 7), (8, 16, 9, 15), (14, 10, 15, 9), (21, 11, 22, 10), (11, 21, 12, 20), (19, 22, 0, 23), (23, 0, 20, 1)].\n",
      "Performed 180000 steps. Currently at knot [(8, 13, 9, 10), (10, 1, 11, 2), (6, 12, 7, 11), (12, 4, 13, 3), (2, 7, 3, 8), (9, 4, 0, 5), (5, 0, 6, 1)].\n",
      "Performed 190000 steps. Currently at knot [(8, 13, 9, 10), (10, 1, 11, 2), (6, 12, 7, 11), (12, 4, 13, 3), (2, 7, 3, 8), (9, 4, 0, 5), (5, 0, 6, 1)].\n",
      "Performed 200000 steps. Currently at knot [(10, 2, 11, 1), (3, 22, 0, 23), (15, 8, 16, 9), (9, 5, 10, 4), (21, 13, 22, 12), (13, 21, 14, 20), (19, 15, 20, 14), (25, 16, 26, 17), (18, 27, 19, 24), (5, 25, 6, 24), (6, 17, 7, 18), (26, 8, 27, 7), (2, 12, 3, 11), (23, 0, 4, 1)].\n",
      "Performed 210000 steps. Currently at knot [(4, 2, 5, 1), (2, 13, 3, 14), (12, 3, 13, 4), (18, 6, 19, 5), (6, 18, 7, 17), (16, 8, 17, 7), (8, 16, 9, 15), (14, 10, 15, 9), (21, 11, 22, 10), (11, 21, 12, 20), (19, 22, 0, 23), (23, 0, 20, 1)].\n",
      "Performed 220000 steps. Currently at knot [(4, 2, 5, 1), (2, 13, 3, 14), (12, 3, 13, 4), (18, 6, 19, 5), (6, 18, 7, 17), (16, 8, 17, 7), (8, 16, 9, 15), (14, 10, 15, 9), (21, 10, 22, 11), (11, 22, 12, 23), (19, 21, 0, 20), (23, 1, 20, 0)].\n",
      "Performed 230000 steps. Currently at knot [(4, 2, 5, 1), (2, 13, 3, 14), (12, 3, 13, 4), (18, 6, 19, 5), (6, 18, 7, 17), (16, 8, 17, 7), (8, 16, 9, 15), (14, 10, 15, 9), (21, 10, 22, 11), (11, 22, 12, 23), (19, 21, 0, 20), (23, 1, 20, 0)].\n",
      "Performed 240000 steps. Currently at knot [(3, 12, 4, 13), (11, 4, 12, 5), (17, 7, 10, 6), (7, 17, 8, 16), (15, 9, 16, 8), (9, 15, 0, 14), (1, 10, 2, 11), (13, 2, 14, 3), (5, 0, 6, 1)].\n",
      "Performed 250000 steps. Currently at knot [(8, 11, 9, 12), (12, 9, 13, 0), (3, 11, 4, 10), (13, 3, 10, 2), (1, 6, 2, 7), (7, 4, 8, 5), (5, 0, 6, 1)].\n",
      "Performed 260000 steps. Currently at knot [(7, 12, 8, 13), (11, 8, 12, 9), (4, 10, 5, 13), (10, 4, 11, 3), (1, 6, 2, 7), (9, 2, 0, 3), (5, 0, 6, 1)].\n",
      "Performed 270000 steps. Currently at knot [(8, 11, 9, 12), (12, 9, 13, 0), (3, 11, 4, 10), (13, 3, 10, 2), (1, 6, 2, 7), (7, 4, 8, 5), (5, 0, 6, 1)].\n",
      "Performed 280000 steps. Currently at knot [(7, 12, 8, 13), (11, 8, 12, 9), (4, 10, 5, 13), (10, 4, 11, 3), (1, 6, 2, 7), (9, 2, 0, 3), (5, 0, 6, 1)].\n",
      "Performed 290000 steps. Currently at knot [(4, 2, 5, 1), (2, 13, 3, 14), (12, 3, 13, 4), (18, 6, 19, 5), (6, 18, 7, 17), (16, 8, 17, 7), (8, 16, 9, 15), (14, 10, 15, 9), (21, 11, 22, 10), (11, 21, 12, 20), (19, 22, 0, 23), (23, 0, 20, 1)].\n",
      "Performed 300000 steps. Currently at knot [(8, 13, 9, 10), (12, 9, 13, 0), (4, 12, 5, 11), (10, 4, 11, 3), (1, 6, 2, 7), (7, 2, 8, 3), (5, 0, 6, 1)].\n",
      "Performed 310000 steps. Currently at knot [(7, 12, 8, 13), (11, 8, 12, 9), (4, 10, 5, 13), (10, 4, 11, 3), (1, 6, 2, 7), (9, 2, 0, 3), (5, 0, 6, 1)].\n",
      "Performed 320000 steps. Currently at knot [(8, 11, 9, 12), (12, 9, 13, 0), (5, 11, 6, 10), (13, 5, 10, 4), (1, 6, 2, 7), (7, 2, 8, 3), (3, 0, 4, 1)].\n",
      "Performed 330000 steps. Currently at knot [(4, 0, 5, 7), (6, 15, 7, 16), (16, 5, 17, 6), (14, 4, 15, 3), (2, 12, 3, 17), (10, 13, 11, 14), (12, 9, 13, 10), (1, 9, 2, 8), (11, 1, 8, 0)].\n",
      "Performed 340000 steps. Currently at knot [(8, 13, 9, 10), (10, 1, 11, 2), (6, 12, 7, 11), (12, 4, 13, 3), (2, 7, 3, 8), (9, 4, 0, 5), (5, 0, 6, 1)].\n",
      "Performed 350000 steps. Currently at knot [(8, 13, 9, 10), (10, 1, 11, 2), (6, 12, 7, 11), (12, 4, 13, 3), (2, 7, 3, 8), (9, 4, 0, 5), (5, 0, 6, 1)].\n",
      "Performed 360000 steps. Currently at knot [(8, 11, 9, 12), (12, 9, 13, 0), (3, 11, 4, 10), (13, 3, 10, 2), (1, 6, 2, 7), (7, 4, 8, 5), (5, 0, 6, 1)].\n",
      "Performed 370000 steps. Currently at knot [(1, 10, 2, 11), (13, 2, 10, 3), (6, 12, 7, 11), (12, 6, 13, 5), (3, 8, 4, 9), (9, 4, 0, 5), (7, 0, 8, 1)].\n",
      "Performed 380000 steps. Currently at knot [(1, 10, 2, 11), (13, 2, 10, 3), (6, 12, 7, 11), (12, 6, 13, 5), (3, 8, 4, 9), (9, 4, 0, 5), (7, 0, 8, 1)].\n",
      "Performed 390000 steps. Currently at knot [(8, 13, 9, 10), (10, 1, 11, 2), (6, 12, 7, 11), (12, 4, 13, 3), (2, 7, 3, 8), (9, 4, 0, 5), (5, 0, 6, 1)].\n",
      "Performed 400000 steps. Currently at knot [(2, 0, 3, 25), (0, 11, 1, 12), (10, 1, 11, 2), (16, 4, 17, 3), (4, 16, 5, 15), (14, 6, 15, 5), (6, 14, 7, 13), (12, 8, 13, 7), (21, 9, 22, 8), (9, 21, 10, 20), (17, 22, 18, 23), (23, 18, 24, 19), (19, 24, 20, 25)].\n",
      "Performed 410000 steps. Currently at knot [(8, 13, 9, 10), (12, 9, 13, 0), (4, 12, 5, 11), (10, 4, 11, 3), (1, 6, 2, 7), (7, 2, 8, 3), (5, 0, 6, 1)].\n"
     ]
    }
   ],
   "source": [
    "for k, r in zip(knots, results):\n",
    "    print(\"Found band for knot {:10s}: {}\".format(k, r))"
   ]
  },
  {
   "cell_type": "code",
   "execution_count": null,
   "id": "3f215125",
   "metadata": {},
   "outputs": [],
   "source": []
  }
 ],
 "metadata": {
  "kernelspec": {
   "display_name": "testvenv",
   "language": "python",
   "name": "testvenv"
  },
  "language_info": {
   "codemirror_mode": {
    "name": "ipython",
    "version": 3
   },
   "file_extension": ".py",
   "mimetype": "text/x-python",
   "name": "python",
   "nbconvert_exporter": "python",
   "pygments_lexer": "ipython3",
   "version": "3.8.16"
  }
 },
 "nbformat": 4,
 "nbformat_minor": 5
}
