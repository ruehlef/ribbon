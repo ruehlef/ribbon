{
 "cells": [
  {
   "cell_type": "markdown",
   "id": "309206bd",
   "metadata": {},
   "source": [
    "# Demonstration of the ribbon package"
   ]
  },
  {
   "cell_type": "markdown",
   "id": "3511fc1c",
   "metadata": {},
   "source": [
    "When you run this for the first time, you need to install the package, which you can do by uncommenting (i.e., by removing the leading #) the line below"
   ]
  },
  {
   "cell_type": "code",
   "execution_count": 1,
   "id": "b7091aa3",
   "metadata": {},
   "outputs": [],
   "source": [
    "# pip install git+https://github.com/ribbon/ribbon.git"
   ]
  },
  {
   "cell_type": "markdown",
   "id": "d5a81f08",
   "metadata": {},
   "source": [
    "Next, we import the package and a few other ones that will be useful in this demonstration"
   ]
  },
  {
   "cell_type": "code",
   "execution_count": 2,
   "id": "cc6dcfcd",
   "metadata": {},
   "outputs": [
    {
     "ename": "ModuleNotFoundError",
     "evalue": "No module named 'ribbon'",
     "output_type": "error",
     "traceback": [
      "\u001b[0;31m---------------------------------------------------------------------------\u001b[0m",
      "\u001b[0;31mModuleNotFoundError\u001b[0m                       Traceback (most recent call last)",
      "Input \u001b[0;32mIn [2]\u001b[0m, in \u001b[0;36m<module>\u001b[0;34m\u001b[0m\n\u001b[0;32m----> 1\u001b[0m \u001b[38;5;28;01mimport\u001b[39;00m \u001b[38;5;21;01mribbon\u001b[39;00m\u001b[38;5;21;01m.\u001b[39;00m\u001b[38;5;21;01mrw\u001b[39;00m  \u001b[38;5;66;03m# the main class\u001b[39;00m\n\u001b[1;32m      2\u001b[0m \u001b[38;5;28;01mimport\u001b[39;00m \u001b[38;5;21;01mribbon\u001b[39;00m\u001b[38;5;21;01m.\u001b[39;00m\u001b[38;5;21;01mvisualizer\u001b[39;00m \u001b[38;5;28;01mas\u001b[39;00m \u001b[38;5;21;01mvisualizer\u001b[39;00m  \u001b[38;5;66;03m# for visualizing the output\u001b[39;00m\n\u001b[1;32m      4\u001b[0m \u001b[38;5;28;01mimport\u001b[39;00m \u001b[38;5;21;01msnappy\u001b[39;00m  \u001b[38;5;66;03m# to represent the knots\u001b[39;00m\n",
      "\u001b[0;31mModuleNotFoundError\u001b[0m: No module named 'ribbon'"
     ]
    }
   ],
   "source": [
    "import ribbon.rw  # the main class\n",
    "import ribbon.visualizer as visualizer  # for visualizing the output\n",
    "\n",
    "import snappy  # to represent the knots\n",
    "import logging  # to print some info of what the code is doing"
   ]
  },
  {
   "cell_type": "markdown",
   "id": "bdeb0f05",
   "metadata": {},
   "source": [
    "Here are the options we can use to configure the search"
   ]
  },
  {
   "cell_type": "code",
   "execution_count": null,
   "id": "5d21e9e8",
   "metadata": {},
   "outputs": [],
   "source": [
    "max_size = 10             # max number of crossings any intermediate knot can have\n",
    "max_steps =  5000         # max number of steps searched by the random walker before giving up and resetting the link\n",
    "max_tries = 10000         # number of total steps before we give up completely\n",
    "max_bct = 3               # we use the same variable to set the max number of allowed twists, link components, and bands to add. If you start with a knot, the max number of bands is the max number of components + 1, since each band adds a link component\n",
    "log_level = logging.INFO  # controls how much information is printed by the code while searching for a band\n",
    "use_checks = False        # If set to true (whcih requires sage), the code will check for slice obstructions after attaching bands, rather than keep searching more and more bands on a link that is potentially obstructed. This uses the Fox Milnor condition, which requires the Alexander Polynomial. This can be slow to compute for large knots\n",
    "save_images = True        # Will use the visualizer to save the band found by the random walker"
   ]
  },
  {
   "cell_type": "code",
   "execution_count": null,
   "id": "59b1edd8",
   "metadata": {},
   "outputs": [],
   "source": [
    "random_walker = ribbon.rw.RandomWalker(links=my_links, \n",
    "                                       max_size=max_size, \n",
    "                                       max_steps=args.max_steps, \n",
    "                                       max_bct=max_bct, \n",
    "                                       logger=None, \n",
    "                                       log_level=log_level, \n",
    "                                       use_band_checks=use_checks, \n",
    "                                       save_solved_knot_images=save_images\n",
    "                                      )"
   ]
  },
  {
   "cell_type": "markdown",
   "id": "d2b4b037",
   "metadata": {},
   "source": [
    "## Now we perform random actions that lead to random bands until we find a collection of bands that leads to the unknot, or the max number of steps has been exhausted"
   ]
  },
  {
   "cell_type": "code",
   "execution_count": null,
   "id": "7204b284",
   "metadata": {},
   "outputs": [],
   "source": [
    "tries = 0\n",
    "while tries < max_tries:\n",
    "    tries += 1\n",
    "    if tries % 10000 == 0:\n",
    "        logger.info(\"Performed {:d} steps. Currently at knot {}/{}. Solved {}.\".format(tries, num_knots, len(my_links), success))\n",
    "    \n",
    "    # Find all valid actions\n",
    "    valid_actions = np.argwhere(random_walker.invalid_action_mask()).flatten()\n",
    "    \n",
    "    # pick a random one\n",
    "    a = np.random.choice(valid_actions) if len(valid_actions) > 0 else 0\n",
    "    \n",
    "    # perform the action\n",
    "    done, info = random_walker.step(a)\n",
    "        \n",
    "    # check whether the knot is done (either because the unknot was reached, or a reset was triggered)\n",
    "    if done:\n",
    "        tries_per_knot += 1\n",
    "        if 'unknot' in info['result']:  # found bands\n",
    "            logger.error(\"Knot is ribbon!\")  # this is not an error, we just want to print this message irrespective of the logger level.\n",
    "            break"
   ]
  },
  {
   "cell_type": "markdown",
   "id": "c54209a7",
   "metadata": {},
   "source": [
    "## Alternatively, we can weight the actions differently"
   ]
  },
  {
   "cell_type": "code",
   "execution_count": null,
   "id": "67ce1358",
   "metadata": {},
   "outputs": [],
   "source": [
    "weights = [0.25,0.85,0.05,0.05,0.15]  # this was found to work well\n",
    "weights = [float(weights[0])] * max_action_per_category + [float(weights[3]), float(weights[1]), float(weights[2])] * max_action_per_category + [float(weights[4])] * 2"
   ]
  },
  {
   "cell_type": "code",
   "execution_count": null,
   "id": "cfa25d4b",
   "metadata": {},
   "outputs": [],
   "source": [
    "# the rest is essentially the same as before\n",
    "tries = 0\n",
    "while tries < max_tries:\n",
    "    tries += 1\n",
    "    if tries % 10000 == 0:\n",
    "        logger.info(\"Performed {:d} steps. Currently at knot {}/{}. Solved {}.\".format(tries, num_knots, len(my_links), success))\n",
    "    \n",
    "    # Find all valid actions\n",
    "    valid_actions = np.argwhere(random_walker.invalid_action_mask()).flatten()\n",
    "    \n",
    "    # pick a random valid action weighted according to the weights specified above\n",
    "    ws = weights * valid_actions\n",
    "    ws = ws / np.sum(ws) if np.sum(ws) != 0 else [1./(4 * max_size + 2)] * (4 * max_size + 2)\n",
    "    a = np.random.choice(len(valid_actions), p=ws) if valid_actions.any() else 0\n",
    "    \n",
    "    # perform the action\n",
    "    done, info = random_walker.step(a)\n",
    "        \n",
    "    # check whether the knot is done (either because the unknot was reached, or a reset was triggered)\n",
    "    if done:\n",
    "        tries_per_knot += 1\n",
    "        if 'unknot' in info['result']:  # found bands\n",
    "            logger.error(\"Knot is ribbon!\")  # this is not an error, we just want to print this message irrespective of the logger level.\n",
    "            break"
   ]
  },
  {
   "cell_type": "markdown",
   "id": "7929350b",
   "metadata": {},
   "source": [
    "## Random searches can be parallelized trivially"
   ]
  },
  {
   "cell_type": "code",
   "execution_count": null,
   "id": "b4da11ea",
   "metadata": {},
   "outputs": [],
   "source": [
    "from joblib import Parallel, delayed  # for parallelization"
   ]
  },
  {
   "cell_type": "code",
   "execution_count": null,
   "id": "42b6d751",
   "metadata": {},
   "outputs": [],
   "source": [
    "# define the function that does the search\n",
    "def search_band(random_walker, max_tries=1000, weights=[1., 1., 1., 1., 1.]):\n",
    "    tries = 0\n",
    "    while tries < max_tries:\n",
    "        tries += 1\n",
    "        # Find all valid actions\n",
    "        valid_actions = np.argwhere(random_walker.invalid_action_mask()).flatten()\n",
    "\n",
    "        # pick a random valid action weighted according to the weights specified above\n",
    "        ws = weights * valid_actions\n",
    "        ws = ws / np.sum(ws) if np.sum(ws) != 0 else [1./(4 * max_size + 2)] * (4 * max_size + 2)\n",
    "        a = np.random.choice(len(valid_actions), p=ws) if valid_actions.any() else 0\n",
    "\n",
    "        # perform the action\n",
    "        done, info = random_walker.step(a)\n",
    "\n",
    "        # check whether the knot is done (either because the unknot was reached, or a reset was triggered)\n",
    "        if done:\n",
    "            tries_per_knot += 1\n",
    "            if 'unknot' in info['result']:  # found bands\n",
    "                logger.error(\"Knot is ribbon!\")  # this is not an error, we just want to print this message irrespective of the logger level.\n",
    "                return True\n",
    "    return False"
   ]
  },
  {
   "cell_type": "markdown",
   "id": "998d2b64",
   "metadata": {},
   "source": [
    "run this function multiple times in parallel"
   ]
  },
  {
   "cell_type": "code",
   "execution_count": null,
   "id": "abe2303a",
   "metadata": {},
   "outputs": [],
   "source": [
    "n_jobs = 10  # number of parallel searches (set this <= number of cores)\n",
    "backend = 'multiprocessing'  # if this does not work for you, try backend = 'loki'\n",
    "rws = [ribbon.rw.RandomWalker(links=my_links, \n",
    "                                       max_size=max_size, \n",
    "                                       max_steps=args.max_steps, \n",
    "                                       max_bct=max_bct, \n",
    "                                       logger=None, \n",
    "                                       log_level=log_level, \n",
    "                                       use_band_checks=use_checks, \n",
    "                                       save_solved_knot_images=save_images\n",
    "                                      )\n",
    "       for _ in range(n_jobs)]  # create independent random walkers"
   ]
  },
  {
   "cell_type": "code",
   "execution_count": null,
   "id": "56547508",
   "metadata": {},
   "outputs": [],
   "source": [
    "search_result = Parallel(n_jobs=n_jobs, backend=backend)([delayed(search_band)(rw) for rw in rws]\n",
    "print(\"At least one process proved the input link is ribbon: {}\". format(any(search_result)))"
   ]
  }
 ],
 "metadata": {
  "kernelspec": {
   "display_name": "venv-mcts",
   "language": "python",
   "name": "venv-mcts"
  },
  "language_info": {
   "codemirror_mode": {
    "name": "ipython",
    "version": 3
   },
   "file_extension": ".py",
   "mimetype": "text/x-python",
   "name": "python",
   "nbconvert_exporter": "python",
   "pygments_lexer": "ipython3",
   "version": "3.9.10"
  }
 },
 "nbformat": 4,
 "nbformat_minor": 5
}
