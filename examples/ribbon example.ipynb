{
 "cells": [
  {
   "cell_type": "markdown",
   "id": "309206bd",
   "metadata": {},
   "source": [
    "# Demonstration of the ribbon package"
   ]
  },
  {
   "cell_type": "markdown",
   "id": "3511fc1c",
   "metadata": {},
   "source": [
    "When you run this for the first time, you need to install the package, which you can do by uncommenting (i.e., by removing the leading #) the line below"
   ]
  },
  {
   "cell_type": "code",
   "execution_count": 1,
   "id": "b7091aa3",
   "metadata": {},
   "outputs": [],
   "source": [
    "# pip install git+https://github.com/ribbon/ribbon.git"
   ]
  },
  {
   "cell_type": "markdown",
   "id": "d5a81f08",
   "metadata": {},
   "source": [
    "Next, we import the package and a few other ones that will be useful in this demonstration"
   ]
  },
  {
   "cell_type": "code",
   "execution_count": 2,
   "id": "cc6dcfcd",
   "metadata": {},
   "outputs": [],
   "source": [
    "import ribbon.rw  # the main class\n",
    "import ribbon.visualizer as visualizer  # for visualizing the output\n",
    "\n",
    "import numpy as np  # handles arrays\n",
    "import snappy  # to represent the knots\n",
    "import logging  # to print some info of what the code is doing"
   ]
  },
  {
   "cell_type": "markdown",
   "id": "bdeb0f05",
   "metadata": {},
   "source": [
    "Here are the options we can use to configure the search"
   ]
  },
  {
   "cell_type": "code",
   "execution_count": 3,
   "id": "5d21e9e8",
   "metadata": {},
   "outputs": [],
   "source": [
    "links = ['K6a3']          # links to search. Accepts a list of PD codes or link names. K6a3 is the Stevedore knot\n",
    "max_size = 10             # max number of crossings any intermediate knot can have\n",
    "max_steps =  5000         # max number of steps searched by the random walker before giving up and resetting the link\n",
    "max_tries = 10000         # number of total steps before we give up completely\n",
    "max_bct = 3               # we use the same variable to set the max number of allowed twists, link components, and bands to add. If you start with a knot, the max number of bands is the max number of components + 1, since each band adds a link component\n",
    "log_level = logging.ERROR # controls how much information is printed by the code while searching for a band\n",
    "use_checks = False        # If set to true (whcih requires sage), the code will check for slice obstructions after attaching bands, rather than keep searching more and more bands on a link that is potentially obstructed. This uses the Fox Milnor condition, which requires the Alexander Polynomial. This can be slow to compute for large knots\n",
    "save_images = True        # Will use the visualizer to save the band found by the random walker"
   ]
  },
  {
   "cell_type": "code",
   "execution_count": 4,
   "id": "59b1edd8",
   "metadata": {},
   "outputs": [],
   "source": [
    "random_walker = ribbon.rw.RandomWalker(links=links, \n",
    "                                       max_size=max_size, \n",
    "                                       max_steps=max_steps, \n",
    "                                       max_bct=max_bct, \n",
    "                                       logger=None, \n",
    "                                       log_level=log_level, \n",
    "                                       use_band_checks=use_checks, \n",
    "                                       save_solved_knot_images=save_images\n",
    "                                      )"
   ]
  },
  {
   "cell_type": "markdown",
   "id": "d2b4b037",
   "metadata": {},
   "source": [
    "## Perform random search"
   ]
  },
  {
   "cell_type": "markdown",
   "id": "56a94db7",
   "metadata": {},
   "source": [
    "Now we perform random actions that lead to random bands until we find a collection of bands that leads to the unknot, or the max number of steps has been exhausted"
   ]
  },
  {
   "cell_type": "code",
   "execution_count": 5,
   "id": "7204b284",
   "metadata": {},
   "outputs": [
    {
     "name": "stdout",
     "output_type": "stream",
     "text": [
      "Knot is ribbon!\n",
      "\u001b[31mYour new Plink window needs an event loop to become visible.\n",
      "Type \"%gui tk\" below (without the quotes) to start one.\u001b[0m\n",
      "\n"
     ]
    }
   ],
   "source": [
    "tries = 0\n",
    "while tries < max_tries:\n",
    "    tries += 1\n",
    "    if tries % 10000 == 0:\n",
    "        print(\"Performed {:d} steps.\".format(tries))\n",
    "    \n",
    "    # Find all valid actions\n",
    "    valid_actions = np.argwhere(random_walker.invalid_action_mask()).flatten()\n",
    "    \n",
    "    # pick a random one\n",
    "    a = np.random.choice(valid_actions) if len(valid_actions) > 0 else 0\n",
    "    \n",
    "    # perform the action\n",
    "    done, info = random_walker.step(a)\n",
    "        \n",
    "    # check whether the knot is done (either because the unknot was reached, or a reset was triggered)\n",
    "    if done:\n",
    "        if 'unknot' in info['result']:  # found bands\n",
    "            print(\"Knot is ribbon!\")  # this is not an error, we just want to print this message irrespective of the logger level.\n",
    "            break"
   ]
  },
  {
   "cell_type": "markdown",
   "id": "c54209a7",
   "metadata": {},
   "source": [
    "## Perform random weighted search"
   ]
  },
  {
   "cell_type": "markdown",
   "id": "ba728864",
   "metadata": {},
   "source": [
    "Alternatively, we can weight the actions differently"
   ]
  },
  {
   "cell_type": "code",
   "execution_count": 6,
   "id": "67ce1358",
   "metadata": {},
   "outputs": [],
   "source": [
    "max_action_per_category = max_size + 3\n",
    "weights = [0.25,0.85,0.05,0.05,0.15]  # this was found to work well\n",
    "weights = [float(weights[0])] * max_action_per_category + [float(weights[3]), float(weights[1]), float(weights[2])] * max_action_per_category + [float(weights[4])] * 2"
   ]
  },
  {
   "cell_type": "code",
   "execution_count": 8,
   "id": "cfa25d4b",
   "metadata": {},
   "outputs": [
    {
     "name": "stdout",
     "output_type": "stream",
     "text": [
      "Knot is ribbon!\n",
      "\u001b[31mYour new Plink window needs an event loop to become visible.\n",
      "Type \"%gui tk\" below (without the quotes) to start one.\u001b[0m\n",
      "\n"
     ]
    }
   ],
   "source": [
    "# the rest is essentially the same as before\n",
    "random_walker = ribbon.rw.RandomWalker(links=links, \n",
    "                                       max_size=max_size, \n",
    "                                       max_steps=max_steps, \n",
    "                                       max_bct=max_bct, \n",
    "                                       logger=None, \n",
    "                                       log_level=log_level, \n",
    "                                       use_band_checks=use_checks, \n",
    "                                       save_solved_knot_images=save_images\n",
    "                                      )\n",
    "\n",
    "tries = 0\n",
    "while tries < max_tries:\n",
    "    tries += 1\n",
    "    if tries % 10000 == 0:\n",
    "        print(\"Performed {:d} steps.\".format(tries))\n",
    "    \n",
    "    # Find all valid actions\n",
    "    valid_actions = np.array(random_walker.invalid_action_mask(), dtype=float)\n",
    "    \n",
    "    # pick a random valid action weighted according to the weights specified above\n",
    "    ws = weights * valid_actions\n",
    "    ws = ws / np.sum(ws) if np.sum(ws) != 0 else [1./(4 * max_size + 2)] * (4 * max_size + 2)\n",
    "    a = np.random.choice(len(valid_actions), p=ws) if valid_actions.any() else 0\n",
    "    \n",
    "    # perform the action\n",
    "    done, info = random_walker.step(a)\n",
    "        \n",
    "    # check whether the knot is done (either because the unknot was reached, or a reset was triggered)\n",
    "    if done:\n",
    "        if 'unknot' in info['result']:  # found bands\n",
    "            print(\"Knot is ribbon!\")  # this is not an error, we just want to print this message irrespective of the logger level.\n",
    "            break"
   ]
  },
  {
   "cell_type": "markdown",
   "id": "7929350b",
   "metadata": {},
   "source": [
    "## Perform parallel search"
   ]
  },
  {
   "cell_type": "markdown",
   "id": "a3217169",
   "metadata": {},
   "source": [
    "Since the search is random, it can be parallelized very easily, either by running the Random Walker on the same knot multiple times, or over many different knots.\n",
    "\n",
    "For the parallelization, we use 2 packages that are not necessary to run the program itself:\n",
    "* joblib to parallelize\n",
    "* tqdm for a progress bar\n",
    "\n",
    "If you dont have these packages, you can install them by commenting out the lines below"
   ]
  },
  {
   "cell_type": "code",
   "execution_count": 11,
   "id": "89567f29",
   "metadata": {},
   "outputs": [],
   "source": [
    "# pip install joblib tqdm"
   ]
  },
  {
   "cell_type": "code",
   "execution_count": 24,
   "id": "b4da11ea",
   "metadata": {},
   "outputs": [],
   "source": [
    "import joblib  # for parallelization\n",
    "from tqdm import tqdm  # for progress bar\n",
    "import contextlib  # for progress bar\n",
    "import time  # for timing out computation"
   ]
  },
  {
   "cell_type": "code",
   "execution_count": 31,
   "id": "42b6d751",
   "metadata": {},
   "outputs": [],
   "source": [
    "# this runs the search\n",
    "# Args:\n",
    "#    max_size (int):     Max number of crossings of any link encountered\n",
    "#    timeout (int):      Max time in seconds to search a knot before giving up\n",
    "#    max_tries (int):    Max number of times a knot is tried before giving up. Set to -1 for infinite tries (or until timeout is reached)\n",
    "#    max_bands (int):    Max number of bands to try (and max number of twists and max number of components)\n",
    "#    save_images (bool): Wheter an image that shows the band which was found should be saved\n",
    "#    use_checks (bool):  Wheter slice obstructions should be checked after each band addition (if True, requires sage)\n",
    "#    knot_name (str):    A name for the knot (only used for saving the image)\n",
    "#    weights (list):     A list of weights for the 5 actions\n",
    "#    max_steps (int):    Max steps to try before resetting the knot and starting over\n",
    "#    log_level (int):    How much information is printed\n",
    "#\n",
    "# Returns:\n",
    "#    bool:               True if a band was found within the specified time and/or number of tries, false otherwise\n",
    "def run_rw_parallel(knot, max_size, timeout=5*60, max_tries=-1, max_bands=4, save_images=True, use_checks=False, knot_name=\"\", weights=None, max_steps=50, log_level=logging.ERROR):\n",
    "    max_bands = max_bands\n",
    "    num_xing = len(knot)\n",
    "    max_size = max(int(1.25 * num_xing), max_size)\n",
    "    max_action_per_category = max_size + 3\n",
    "    if weights is not None:\n",
    "        weights = [float(weights[0])] * max_action_per_category + [float(weights[3]), float(weights[1]), float(weights[2])] * max_action_per_category + [float(weights[4])] * 2\n",
    "    \n",
    "    if not isinstance(knot, str):\n",
    "        knot = [[list(k) for k in knot]]\n",
    "    else:\n",
    "        knot = [knot]\n",
    "    \n",
    "    random_walker = ribbon.rw.RandomWalker(links=knot, \n",
    "                                           max_size=max_size, \n",
    "                                           max_steps=max_steps, \n",
    "                                           max_bct=max_bct, \n",
    "                                           log_level=log_level, \n",
    "                                           use_band_checks=use_checks, \n",
    "                                           save_solved_knot_images=save_images,\n",
    "                                           save_knot_name=str(knot_name)\n",
    "                                          )\n",
    "    start_time, found_bands, tries = time.time(), False, 0\n",
    "    while (time.time() - start_time < timeout) and (max_tries == -1 or tries <= max_tries):\n",
    "        try:\n",
    "            tries += 1\n",
    "            if tries % 10000 == 0: \n",
    "                    print(\"Performed {:4d} steps. Currently at knot {}.\".format(tries, random_walker.L.PD_code()))\n",
    "            # random sample valid action\n",
    "            if weights is None:\n",
    "                valid_actions = np.argwhere(random_walker.invalid_action_mask()).flatten()\n",
    "                a = np.random.choice(valid_actions) if len(valid_actions) > 0 else 0\n",
    "            else:\n",
    "                valid_actions = np.array(random_walker.invalid_action_mask(), dtype=float)\n",
    "                ws = weights * valid_actions\n",
    "                ws = ws / np.sum(ws) if np.sum(ws) != 0 else [1. / (4 * max_size + 2)] * (4 * max_size + 2)\n",
    "                a = np.random.choice(len(valid_actions), p=ws) if valid_actions.any() else 0\n",
    "            \n",
    "            done, info = random_walker.step(a)\n",
    "\n",
    "            if done:\n",
    "                if 'unknot' in info['result']:  # solved the knot\n",
    "                    found_bands = True\n",
    "                    print(\"Solved knot {}\".format(knot_name))\n",
    "                    break\n",
    "                else:\n",
    "                    random_walker.reset(\"True\")\n",
    "        except Exception as e:\n",
    "            print(\"Exception raised:\", e)\n",
    "            random_walker = ribbon.rw.RandomWalker(links=knot, \n",
    "                                           max_size=max_size, \n",
    "                                           max_steps=max_steps, \n",
    "                                           max_bct=max_bct, \n",
    "                                           log_level=log_level, \n",
    "                                           use_band_checks=use_checks, \n",
    "                                           save_solved_knot_images=save_images,\n",
    "                                           save_knot_name=str(knot_name)\n",
    "                                          )\n",
    "    \n",
    "    return found_bands\n",
    "\n",
    "# this is for the progress bar\n",
    "@contextlib.contextmanager\n",
    "def tqdm_joblib(tqdm_object):\n",
    "    class TqdmBatchCompletionCallback(joblib.parallel.BatchCompletionCallBack):\n",
    "        def __call__(self, *args, **kwargs):\n",
    "            tqdm_object.update(n=self.batch_size)\n",
    "            return super().__call__(*args, **kwargs)\n",
    "\n",
    "    old_batch_callback = joblib.parallel.BatchCompletionCallBack\n",
    "    joblib.parallel.BatchCompletionCallBack = TqdmBatchCompletionCallback\n",
    "    try:\n",
    "        yield tqdm_object\n",
    "    finally:\n",
    "        joblib.parallel.BatchCompletionCallBack = old_batch_callback\n",
    "        tqdm_object.close()"
   ]
  },
  {
   "cell_type": "markdown",
   "id": "998d2b64",
   "metadata": {},
   "source": [
    "run this function multiple times in parallel"
   ]
  },
  {
   "cell_type": "code",
   "execution_count": 32,
   "id": "11ccd5a7",
   "metadata": {},
   "outputs": [],
   "source": [
    "knots = ['K13n3162', 'K14a3636', 'K14a5890', 'K14n11236']  # some ribbon knots for which finding bands is hard\n",
    "weights = [0.25, 0.85, 0.05, 0.05, 0.15]  # these work well\n",
    "timeout = 5*60  # 60s\n",
    "n_jobs = 4  # number of parallel search threads\n",
    "\n",
    "max_size = 40\n",
    "max_steps =  5000\n",
    "max_tries = -1  # try until timeout\n",
    "max_bct = 3\n",
    "log_level = logging.ERROR\n",
    "use_checks = False\n",
    "save_images = True"
   ]
  },
  {
   "cell_type": "code",
   "execution_count": 33,
   "id": "bdae3635",
   "metadata": {},
   "outputs": [
    {
     "name": "stderr",
     "output_type": "stream",
     "text": [
      "\n",
      "Testing knots:   0%|                                                                                                                                                           | 0/4 [00:00<?, ?it/s]\u001b[A\n",
      "Testing knots:  25%|████████████████████████████████████▊                                                                                                              | 1/4 [00:18<00:56, 18.93s/it]\u001b[A\n",
      "Testing knots:  50%|█████████████████████████████████████████████████████████████████████████▌                                                                         | 2/4 [01:29<01:38, 49.14s/it]\u001b[A\n",
      "Testing knots: 100%|███████████████████████████████████████████████████████████████████████████████████████████████████████████████████████████████████████████████████| 4/4 [05:00<00:00, 75.11s/it]\u001b[A\n"
     ]
    },
    {
     "name": "stdout",
     "output_type": "stream",
     "text": [
      "Performed 10000 steps. Currently at knot [(1, 15, 2, 14), (15, 3, 16, 2), (21, 10, 18, 11), (7, 18, 8, 19), (5, 17, 6, 16), (17, 7, 14, 6), (19, 8, 20, 9), (9, 20, 10, 21), (3, 12, 4, 13), (13, 4, 0, 5), (11, 0, 12, 1)].\n",
      "Performed 20000 steps. Currently at knot [(1, 5, 2, 4), (5, 3, 0, 2), (7, 10, 8, 11), (11, 8, 6, 9), (9, 6, 10, 7), (3, 1, 4, 0)].\n",
      "Performed 30000 steps. Currently at knot [(7, 11, 8, 10), (11, 9, 6, 8), (9, 7, 10, 6), (1, 4, 2, 5), (5, 2, 0, 3), (3, 0, 4, 1)].\n",
      "Solved knot K14n11236\n"
     ]
    }
   ],
   "source": [
    "with tqdm_joblib(tqdm(desc=\"Testing knots\", total=len(knots))) as progress_bar:\n",
    "    results = joblib.Parallel(n_jobs=n_jobs, backend='loky')(joblib.delayed(run_rw_parallel)(knot, timeout=timeout, save_images=save_images, use_checks=use_checks, max_size=max_size, max_bands=max_bct, weights=weights, max_steps=max_steps, log_level=log_level, knot_name=str(knot)) for knot in knots)"
   ]
  },
  {
   "cell_type": "code",
   "execution_count": 37,
   "id": "a3776bd9",
   "metadata": {},
   "outputs": [
    {
     "name": "stdout",
     "output_type": "stream",
     "text": [
      "Found band for knot K13n3162  : False\n",
      "Found band for knot K14a3636  : True\n",
      "Found band for knot K14a5890  : False\n",
      "Found band for knot K14n11236 : True\n"
     ]
    }
   ],
   "source": [
    "for k, r in zip(knots, results):\n",
    "    print(\"Found band for knot {:10s}: {}\".format(k, r))"
   ]
  },
  {
   "cell_type": "code",
   "execution_count": null,
   "id": "3347f0a9",
   "metadata": {},
   "outputs": [],
   "source": []
  }
 ],
 "metadata": {
  "kernelspec": {
   "display_name": "testvenv",
   "language": "python",
   "name": "testvenv"
  },
  "language_info": {
   "codemirror_mode": {
    "name": "ipython",
    "version": 3
   },
   "file_extension": ".py",
   "mimetype": "text/x-python",
   "name": "python",
   "nbconvert_exporter": "python",
   "pygments_lexer": "ipython3",
   "version": "3.8.16"
  }
 },
 "nbformat": 4,
 "nbformat_minor": 5
}
